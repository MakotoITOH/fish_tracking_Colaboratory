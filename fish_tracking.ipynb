{
  "nbformat": 4,
  "nbformat_minor": 0,
  "metadata": {
    "colab": {
      "provenance": [],
      "authorship_tag": "ABX9TyNnhzjujc9UX58rRuCb+bZR",
      "include_colab_link": true
    },
    "kernelspec": {
      "name": "python3",
      "display_name": "Python 3"
    },
    "language_info": {
      "name": "python"
    }
  },
  "cells": [
    {
      "cell_type": "markdown",
      "metadata": {
        "id": "view-in-github",
        "colab_type": "text"
      },
      "source": [
        "<a href=\"https://colab.research.google.com/github/MakotoITOH/fish_tracking_Colaboratory/blob/main/fish_tracking.ipynb\" target=\"_parent\"><img src=\"https://colab.research.google.com/assets/colab-badge.svg\" alt=\"Open In Colab\"/></a>"
      ]
    },
    {
      "cell_type": "code",
      "source": [
        "# if you use short movie, use this cell for analysing with google drive\n",
        "\n",
        "from google.colab import drive\n",
        "import os\n",
        "drive.mount('/content/drive')\n",
        "path = '/content/drive/MyDrive'\n",
        "os.chdir(path)\n",
        "!git clone https://github.com/MakotoITOH/fish_tracking_ultralytics.git\n",
        "\n",
        "## put your movie file in /content/drive/MyDrive/fish_tracking_ultralytics/fishtracking/movie\n",
        "\n",
        "path_fish = '/content/drive/MyDrive/fish_tracking_ultralytics/fishtracking'\n",
        "os.chdir(path_fish)\n",
        "\n",
        "!pip install ultralytics\n",
        "\n",
        "!python3 fish_tracker.py"
      ],
      "metadata": {
        "id": "Fsv4JVZWGG_s"
      },
      "execution_count": null,
      "outputs": []
    },
    {
      "cell_type": "code",
      "source": [
        "# if you use long movie, use this cell for analysing without google drive\n",
        "\n",
        "import os\n",
        "!git clone https://github.com/MakotoITOH/fish_tracking_ultralytics.git\n",
        "path = '/content/fish_tracking_ultralytics/fishtracking'\n",
        "os.chdir(path)\n",
        "\n",
        "## upload your movie file in /contentfish_tracking_ultralytics/fishtracking/movie\n",
        "## need much time for uploading video file\n",
        "\n",
        "!pip install ultralytics\n",
        "\n",
        "!python3 fish_tracker.py"
      ],
      "metadata": {
        "id": "sepUQFyWyrGo"
      },
      "execution_count": null,
      "outputs": []
    }
  ]
}