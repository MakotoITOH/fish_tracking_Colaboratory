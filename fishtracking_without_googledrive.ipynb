{
  "nbformat": 4,
  "nbformat_minor": 0,
  "metadata": {
    "colab": {
      "provenance": [],
      "authorship_tag": "ABX9TyNNHNHnHXCOJ42GRMc+48aL",
      "include_colab_link": true
    },
    "kernelspec": {
      "name": "python3",
      "display_name": "Python 3"
    },
    "language_info": {
      "name": "python"
    }
  },
  "cells": [
    {
      "cell_type": "markdown",
      "metadata": {
        "id": "view-in-github",
        "colab_type": "text"
      },
      "source": [
        "<a href=\"https://colab.research.google.com/github/MakotoITOH/fish_tracking_Colaboratory/blob/main/fishtracking_without_googledrive.ipynb\" target=\"_parent\"><img src=\"https://colab.research.google.com/assets/colab-badge.svg\" alt=\"Open In Colab\"/></a>"
      ]
    },
    {
      "cell_type": "code",
      "execution_count": null,
      "metadata": {
        "id": "m48TtPzb0v5k"
      },
      "outputs": [],
      "source": [
        "# if you use long movie, use this file for analysing without google drive\n",
        "\n",
        "import os\n",
        "!git clone https://github.com/MakotoITOH/fish_tracking_ultralytics.git\n",
        "path = '/content/fish_tracking_ultralytics/fishtracking'\n",
        "os.chdir(path)"
      ]
    },
    {
      "cell_type": "code",
      "source": [
        "## upload your movie file in google colaboratory /content/fish_tracking_ultralytics/fishtracking/video\n",
        "## need much time for uploading video file\n",
        "\n",
        "!pip install ultralytics\n",
        "\n",
        "!python3 fish_tracker.py"
      ],
      "metadata": {
        "id": "vPxf0HuL1F39"
      },
      "execution_count": null,
      "outputs": []
    }
  ]
}