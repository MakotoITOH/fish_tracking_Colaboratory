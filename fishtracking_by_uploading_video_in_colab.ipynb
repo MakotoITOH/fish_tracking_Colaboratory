{
  "nbformat": 4,
  "nbformat_minor": 0,
  "metadata": {
    "colab": {
      "provenance": [],
      "authorship_tag": "ABX9TyNCoLbCW0rZdEr49AC11A3v",
      "include_colab_link": true
    },
    "kernelspec": {
      "name": "python3",
      "display_name": "Python 3"
    },
    "language_info": {
      "name": "python"
    }
  },
  "cells": [
    {
      "cell_type": "markdown",
      "metadata": {
        "id": "view-in-github",
        "colab_type": "text"
      },
      "source": [
        "<a href=\"https://colab.research.google.com/github/MakotoITOH/fish_tracking_Colaboratory/blob/main/fishtracking_by_uploading_video_in_colab.ipynb\" target=\"_parent\"><img src=\"https://colab.research.google.com/assets/colab-badge.svg\" alt=\"Open In Colab\"/></a>"
      ]
    },
    {
      "cell_type": "code",
      "execution_count": 2,
      "metadata": {
        "id": "m48TtPzb0v5k",
        "colab": {
          "base_uri": "https://localhost:8080/"
        },
        "outputId": "2378979c-80ad-4dfd-ed7b-ff50e612a123"
      },
      "outputs": [
        {
          "output_type": "stream",
          "name": "stdout",
          "text": [
            "Cloning into 'fish_tracking_ultralytics'...\n",
            "remote: Enumerating objects: 611, done.\u001b[K\n",
            "remote: Counting objects: 100% (8/8), done.\u001b[K\n",
            "remote: Compressing objects: 100% (6/6), done.\u001b[K\n",
            "remote: Total 611 (delta 2), reused 6 (delta 2), pack-reused 603\u001b[K\n",
            "Receiving objects: 100% (611/611), 78.46 MiB | 30.23 MiB/s, done.\n",
            "Resolving deltas: 100% (66/66), done.\n"
          ]
        }
      ],
      "source": [
        "import os\n",
        "import gdown\n",
        "\n",
        "!git clone https://github.com/MakotoITOH/fish_tracking_ultralytics.git\n",
        "path = '/content/fish_tracking_ultralytics/fishtracking'\n",
        "os.chdir(path)"
      ]
    },
    {
      "cell_type": "code",
      "source": [
        "## upload your movie file in google colaboratory /content/fish_tracking_ultralytics/fishtracking/video\n",
        "## need much time for uploading video file\n",
        "\n",
        "## if you use \"gdown\", you can reduce much time to upload video files in google colaboratory.\n",
        "## sample codes using \"gdown\" are below. Please edit the id and the file-name to your video file.\n",
        "\n",
        "### os.chdir('/content/fish_tracking_ultralytics/fishtracking/video')\n",
        "### gdown.download('https://drive.google.com/uc?id=18HNu2Az-SuHKlqEv79MFMw4P-lMZLUHy', 'development.mp4', quiet=False)\n",
        "### os.chdir(path)\n",
        "\n",
        "!pip install ultralytics\n",
        "\n",
        "!python3 fish_tracker.py"
      ],
      "metadata": {
        "id": "vPxf0HuL1F39"
      },
      "execution_count": null,
      "outputs": []
    }
  ]
}