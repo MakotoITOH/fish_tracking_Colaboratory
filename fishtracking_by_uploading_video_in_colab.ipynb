{
  "nbformat": 4,
  "nbformat_minor": 0,
  "metadata": {
    "colab": {
      "provenance": [],
      "authorship_tag": "ABX9TyPTpOSUL5gwAM1lNly/wY5H",
      "include_colab_link": true
    },
    "kernelspec": {
      "name": "python3",
      "display_name": "Python 3"
    },
    "language_info": {
      "name": "python"
    }
  },
  "cells": [
    {
      "cell_type": "markdown",
      "metadata": {
        "id": "view-in-github",
        "colab_type": "text"
      },
      "source": [
        "<a href=\"https://colab.research.google.com/github/MakotoITOH/fish_tracking_Colaboratory/blob/main/fishtracking_by_uploading_video_in_colab.ipynb\" target=\"_parent\"><img src=\"https://colab.research.google.com/assets/colab-badge.svg\" alt=\"Open In Colab\"/></a>"
      ]
    },
    {
      "cell_type": "code",
      "execution_count": null,
      "metadata": {
        "id": "m48TtPzb0v5k"
      },
      "outputs": [],
      "source": [
        "# if you use long movie, use this file for analysing without google drive\n",
        "\n",
        "import os\n",
        "import gdown\n",
        "\n",
        "!git clone https://github.com/MakotoITOH/fish_tracking_ultralytics.git\n",
        "path = '/content/fish_tracking_ultralytics/fishtracking'\n",
        "os.chdir(path)"
      ]
    },
    {
      "cell_type": "code",
      "source": [
        "## upload your movie file in google colaboratory /content/fish_tracking_ultralytics/fishtracking/video\n",
        "## need much time for uploading video file\n",
        "\n",
        "## if you use \"gdown\", you can reduce much time to upload video files in google colaboratory.\n",
        "## sample codes using \"gdown\" are below. Please edit the id and the file-name to your video file.\n",
        "\n",
        "### os.chdir('/content/fish_tracking_ultralytics/fishtracking/video')\n",
        "### gdown.download('https://drive.google.com/uc?id=18HNu2Az-SuHKlqEv79MFMw4P-lMZLUHy', 'development.mp4', quiet=False)\n",
        "### os.chdir(path)\n",
        "\n",
        "!pip install ultralytics\n",
        "\n",
        "!python3 fish_tracker.py"
      ],
      "metadata": {
        "id": "vPxf0HuL1F39"
      },
      "execution_count": null,
      "outputs": []
    }
  ]
}