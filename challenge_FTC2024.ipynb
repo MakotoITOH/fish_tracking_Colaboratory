{
  "nbformat": 4,
  "nbformat_minor": 0,
  "metadata": {
    "colab": {
      "provenance": [],
      "authorship_tag": "ABX9TyMRrGB7GthA/Ow7Sc04HUf3",
      "include_colab_link": true
    },
    "kernelspec": {
      "name": "python3",
      "display_name": "Python 3"
    },
    "language_info": {
      "name": "python"
    }
  },
  "cells": [
    {
      "cell_type": "markdown",
      "metadata": {
        "id": "view-in-github",
        "colab_type": "text"
      },
      "source": [
        "<a href=\"https://colab.research.google.com/github/MakotoITOH/fish_tracking_Colaboratory/blob/main/challenge_FTC2024.ipynb\" target=\"_parent\"><img src=\"https://colab.research.google.com/assets/colab-badge.svg\" alt=\"Open In Colab\"/></a>"
      ]
    },
    {
      "cell_type": "code",
      "execution_count": null,
      "metadata": {
        "colab": {
          "base_uri": "https://localhost:8080/"
        },
        "id": "x1JSapHV1XQD",
        "outputId": "1c62efee-36df-4b16-e00f-e2e909af6aaa"
      },
      "outputs": [
        {
          "output_type": "stream",
          "name": "stdout",
          "text": [
            "Cloning into 'fish_tracking_ultralytics'...\n",
            "remote: Enumerating objects: 611, done.\u001b[K\n",
            "remote: Counting objects: 100% (8/8), done.\u001b[K\n",
            "remote: Compressing objects: 100% (6/6), done.\u001b[K\n",
            "remote: Total 611 (delta 2), reused 6 (delta 2), pack-reused 603\u001b[K\n",
            "Receiving objects: 100% (611/611), 78.46 MiB | 20.81 MiB/s, done.\n",
            "Resolving deltas: 100% (66/66), done.\n",
            "Updating files: 100% (458/458), done.\n"
          ]
        },
        {
          "output_type": "stream",
          "name": "stderr",
          "text": [
            "Downloading...\n",
            "From: https://drive.google.com/uc?id=18HNu2Az-SuHKlqEv79MFMw4P-lMZLUHy\n",
            "To: /content/fish_tracking_ultralytics/fishtracking/video/development.mp4\n",
            "100%|██████████| 160M/160M [00:01<00:00, 133MB/s]\n"
          ]
        },
        {
          "output_type": "stream",
          "name": "stdout",
          "text": [
            "best.pt  datasets  fish_tracker.py  Fish.yaml  runs  video\n"
          ]
        }
      ],
      "source": [
        "\n",
        "import gdown\n",
        "import os\n",
        "\n",
        "!git clone https://github.com/MakotoITOH/fish_tracking_ultralytics.git\n",
        "\n",
        "main_folder = '/content/fish_tracking_ultralytics/fishtracking'\n",
        "video_folder ='/content/fish_tracking_ultralytics/fishtracking/video'\n",
        "\n",
        "os.chdir(video_folder)\n",
        "# if you want to analyse development.mp4, use this line\n",
        "gdown.download('https://drive.google.com/uc?id=18HNu2Az-SuHKlqEv79MFMw4P-lMZLUHy', 'development.mp4', quiet=False)\n",
        "\n",
        "# if you want to analyse test.mp4, replace this line with above line\n",
        "# gdown.download('https://drive.google.com/uc?id=1EQ_dSZFehXa2pLKlVfNFkQxXJeFu56fe', 'test.mp4', quiet=False)\n",
        "\n",
        "os.chdir(main_folder)\n",
        "!ls"
      ]
    },
    {
      "cell_type": "code",
      "source": [
        "!pip install ultralytics\n",
        "\n",
        "!python3 fish_tracker.py\n",
        "\n",
        "#　development.mp4 needs 2h\n",
        "#  test.mp4 needs needs 8h"
      ],
      "metadata": {
        "id": "K_yDOn_i1xrl"
      },
      "execution_count": null,
      "outputs": []
    },
    {
      "cell_type": "code",
      "source": [
        "# save the results\n",
        "\n",
        "!python3 tran_mot_challnege.py\n",
        "\n",
        "!zip -r /content/fish_tracking_ultralytics/fishtracking/submission.zip /content/fish_tracking_ultralytics/fishtracking/answer.txt\n",
        "\n",
        "from google.colab import files\n",
        "files.download(\"/content/fish_tracking_ultralytics/fishtracking/runs/detect/predict/submission.zip\")"
      ],
      "metadata": {
        "id": "sECoD6vGBT4O"
      },
      "execution_count": null,
      "outputs": []
    }
  ]
}