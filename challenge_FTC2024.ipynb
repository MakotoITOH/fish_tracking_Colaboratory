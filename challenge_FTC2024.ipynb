{
  "nbformat": 4,
  "nbformat_minor": 0,
  "metadata": {
    "colab": {
      "provenance": [],
      "authorship_tag": "ABX9TyOS4UpbK+54Up8ihOtTXt9o",
      "include_colab_link": true
    },
    "kernelspec": {
      "name": "python3",
      "display_name": "Python 3"
    },
    "language_info": {
      "name": "python"
    }
  },
  "cells": [
    {
      "cell_type": "markdown",
      "metadata": {
        "id": "view-in-github",
        "colab_type": "text"
      },
      "source": [
        "<a href=\"https://colab.research.google.com/github/MakotoITOH/fish_tracking_Colaboratory/blob/main/challenge_FTC2024.ipynb\" target=\"_parent\"><img src=\"https://colab.research.google.com/assets/colab-badge.svg\" alt=\"Open In Colab\"/></a>"
      ]
    },
    {
      "cell_type": "code",
      "execution_count": 1,
      "metadata": {
        "colab": {
          "base_uri": "https://localhost:8080/"
        },
        "id": "x1JSapHV1XQD",
        "outputId": "29e0300c-cf15-4bf8-b7d5-ea8aa264a811"
      },
      "outputs": [
        {
          "output_type": "stream",
          "name": "stdout",
          "text": [
            "Cloning into 'fish_tracking_ultralytics'...\n",
            "remote: Enumerating objects: 628, done.\u001b[K\n",
            "remote: Counting objects: 100% (25/25), done.\u001b[K\n",
            "remote: Compressing objects: 100% (19/19), done.\u001b[K\n",
            "remote: Total 628 (delta 11), reused 15 (delta 6), pack-reused 603\u001b[K\n",
            "Receiving objects: 100% (628/628), 78.47 MiB | 30.81 MiB/s, done.\n",
            "Resolving deltas: 100% (75/75), done.\n"
          ]
        },
        {
          "output_type": "stream",
          "name": "stderr",
          "text": [
            "Downloading...\n",
            "From: https://drive.google.com/uc?id=18HNu2Az-SuHKlqEv79MFMw4P-lMZLUHy\n",
            "To: /content/fish_tracking_ultralytics/fishtracking/video/development.mp4\n",
            "100%|██████████| 160M/160M [00:01<00:00, 117MB/s]\n"
          ]
        },
        {
          "output_type": "stream",
          "name": "stdout",
          "text": [
            "best.pt  datasets  fish_tracker.py  Fish.yaml  runs  tran_mot_challenge.py  video\n"
          ]
        }
      ],
      "source": [
        "\n",
        "import gdown\n",
        "import os\n",
        "\n",
        "!git clone https://github.com/MakotoITOH/fish_tracking_ultralytics.git\n",
        "\n",
        "main_folder = '/content/fish_tracking_ultralytics/fishtracking'\n",
        "video_folder ='/content/fish_tracking_ultralytics/fishtracking/video'\n",
        "\n",
        "os.chdir(video_folder)\n",
        "# if you want to analyse development.mp4, use this line\n",
        "gdown.download('https://drive.google.com/uc?id=18HNu2Az-SuHKlqEv79MFMw4P-lMZLUHy', 'development.mp4', quiet=False)\n",
        "\n",
        "# if you want to analyse test.mp4, replace this line with above line\n",
        "# gdown.download('https://drive.google.com/uc?id=1EQ_dSZFehXa2pLKlVfNFkQxXJeFu56fe', 'test.mp4', quiet=False)\n",
        "\n",
        "os.chdir(main_folder)\n",
        "!ls"
      ]
    },
    {
      "cell_type": "code",
      "source": [
        "!pip install ultralytics\n",
        "\n",
        "!python3 fish_tracker.py\n",
        "\n",
        "#　development.mp4 needs 2h\n",
        "#  test.mp4 needs needs 8h"
      ],
      "metadata": {
        "id": "K_yDOn_i1xrl"
      },
      "execution_count": null,
      "outputs": []
    },
    {
      "cell_type": "code",
      "source": [
        "# save the results with MOT format\n",
        "\n",
        "!python3 tran_mot_challenge.py\n",
        "\n",
        "from google.colab import files\n",
        "files.download(\"answer.txt\")"
      ],
      "metadata": {
        "id": "sECoD6vGBT4O"
      },
      "execution_count": null,
      "outputs": []
    }
  ]
}