{
  "nbformat": 4,
  "nbformat_minor": 0,
  "metadata": {
    "colab": {
      "provenance": [],
      "authorship_tag": "ABX9TyOydtA24a2K1anQAXDpUbGB",
      "include_colab_link": true
    },
    "kernelspec": {
      "name": "python3",
      "display_name": "Python 3"
    },
    "language_info": {
      "name": "python"
    }
  },
  "cells": [
    {
      "cell_type": "markdown",
      "metadata": {
        "id": "view-in-github",
        "colab_type": "text"
      },
      "source": [
        "<a href=\"https://colab.research.google.com/github/MakotoITOH/fish_tracking_Colaboratory/blob/main/fishtracking_with_googledrive.ipynb\" target=\"_parent\"><img src=\"https://colab.research.google.com/assets/colab-badge.svg\" alt=\"Open In Colab\"/></a>"
      ]
    },
    {
      "cell_type": "code",
      "source": [
        "# if you use short movie, use this file for analysing with google drive\n",
        "# only for short movie(< 3min) because of google colaboratory Err（https://github.com/googlecolab/colabtools/issues/3441）\n",
        "\n",
        "from google.colab import drive\n",
        "import os\n",
        "drive.mount('/content/drive')\n",
        "path = '/content/drive/MyDrive'\n",
        "os.chdir(path)\n",
        "!git clone https://github.com/MakotoITOH/fish_tracking_ultralytics.git"
      ],
      "metadata": {
        "id": "Fsv4JVZWGG_s"
      },
      "execution_count": null,
      "outputs": []
    },
    {
      "cell_type": "code",
      "source": [
        "## put your movie file in google drive folder (google drive)/fish_tracking_ultralytics/fishtracking/video\n",
        "\n",
        "path_fish = '/content/drive/MyDrive/fish_tracking_ultralytics/fishtracking'\n",
        "os.chdir(path_fish)\n",
        "\n",
        "!pip install ultralytics\n",
        "\n",
        "!python3 fish_tracker.py"
      ],
      "metadata": {
        "id": "D8ZvvTWF0-2R"
      },
      "execution_count": null,
      "outputs": []
    }
  ]
}